{
 "cells": [
  {
   "cell_type": "markdown",
   "id": "e01041d3",
   "metadata": {},
   "source": [
    "### About Dataset :--\n",
    "* Dataset is downloaded from IEEE dataport and Kaggle.\n",
    "* There are 5 classes in the dataset which contain various types of eye disease.\n",
    "** Diabetic Retinopathy :- It is an eye disease that can cause vision loss and blindness in people who have diabetes and  it affects the blood    vessels in the retina.\n",
    "** Glaucoma :- Glaucoma is an eye disease that damage the optic nerve and optic nerve supplies visual information from eye to brain.\n",
    "                          It consists of 530 images samples (Training and Validation) with high resolutions.\n",
    "** Normal or healty fundus images :- It consists of 530 images samples (Training and Validation) with high resolutions.\n",
    "** Maculopathy :- It is a disease that affects the back of the retina, called the macula. The macula controls the ability to read, see fine detail in objects and recognize faces and colors.\n",
    "** Large Optic Cup :- Optic cup is the white, cup-like area in the center of the optic disc.\n",
    "** Blindness\n",
    "** Blur Fundus\n",
    "** BRVO :- Branch Retinal Vein Occlusion is a blockage of one or more branches of the central retinal vein, which runs through the optic nerve.\n",
    "** Pathological Myopia :- Pathological myopia is an extremely high amount of nearsightedness that causes a major alteration of the shape or globe of the eye, which may lead to profound vision loss.\n",
    "** Rhegmatogenous RD :- Rhegmatogenous detachments are caused by a hole or tear in the retina that allows fluid to pass through and collect underneath the retina, pulling the retina away from underlying tissues. \n"
   ]
  },
  {
   "cell_type": "markdown",
   "id": "5d2b8724",
   "metadata": {},
   "source": [
    "#### Importing the libraries :-"
   ]
  },
  {
   "cell_type": "code",
   "execution_count": 1,
   "id": "eb1488ef",
   "metadata": {},
   "outputs": [
    {
     "name": "stdout",
     "output_type": "stream",
     "text": [
      "Module and Packages imported successfully.....!\n"
     ]
    }
   ],
   "source": [
    "import numpy as np\n",
    "import pandas as pd\n",
    "import matplotlib.pyplot as plt\n",
    "import glob\n",
    "import os\n",
    "\n",
    "import tensorflow as tf\n",
    "import keras\n",
    "from keras.models import Model\n",
    "from keras.layers import Flatten, Dense\n",
    "from keras.applications import VGG16\n",
    "\n",
    "from keras.preprocessing.image import ImageDataGenerator\n",
    "from keras.applications.vgg16 import preprocess_input\n",
    "\n",
    "import warnings\n",
    "warnings.filterwarnings(\"ignore\")\n",
    "print(\"Module and Packages imported successfully.....!\")"
   ]
  },
  {
   "cell_type": "markdown",
   "id": "eac939e1",
   "metadata": {},
   "source": [
    "#### Loading dataset :-"
   ]
  },
  {
   "cell_type": "code",
   "execution_count": 2,
   "id": "f7d59015",
   "metadata": {},
   "outputs": [],
   "source": [
    "train_dir = \"C:/Users/Ganpati Kumar Roy/Desktop/5 Ocular Disease/Training/\"\n",
    "val_dir = \"C:/Users/Ganpati Kumar Roy/Desktop/5 Ocular Disease/Validation/\""
   ]
  },
  {
   "cell_type": "markdown",
   "id": "9e11a055",
   "metadata": {},
   "source": [
    "#### Data reading :- "
   ]
  },
  {
   "cell_type": "code",
   "execution_count": 3,
   "id": "22e03a22",
   "metadata": {},
   "outputs": [],
   "source": [
    "def get_files(directory):\n",
    "  if not os.path.exists(directory):\n",
    "    return 0\n",
    "  count=0\n",
    "  for current_path,dirs,files in os.walk(directory):\n",
    "    for dr in dirs:\n",
    "      count+= len(glob.glob(os.path.join(current_path,dr+\"/*\")))\n",
    "  return count    "
   ]
  },
  {
   "cell_type": "code",
   "execution_count": 4,
   "id": "492bb544",
   "metadata": {},
   "outputs": [
    {
     "name": "stdout",
     "output_type": "stream",
     "text": [
      "Classes are :-  5\n",
      "Total train images :- 5663\n",
      "Total validation images :- 1397\n"
     ]
    }
   ],
   "source": [
    "train_samples =get_files(train_dir)\n",
    "num_classes=len(glob.glob(train_dir+\"/*\"))\n",
    "val_samples=get_files(val_dir) \n",
    "print(\"Classes are :- \", num_classes)\n",
    "print(\"Total train images :-\", train_samples)\n",
    "print(\"Total validation images :-\", val_samples)"
   ]
  },
  {
   "cell_type": "markdown",
   "id": "3bf4d523",
   "metadata": {},
   "source": [
    "#### Data Preprocessing"
   ]
  },
  {
   "cell_type": "code",
   "execution_count": 5,
   "id": "49fbd196",
   "metadata": {},
   "outputs": [],
   "source": [
    "train_datagen=ImageDataGenerator(rescale=1./255,\n",
    "                                   shear_range=0.2,\n",
    "                                   zoom_range=0.2,\n",
    "                                   validation_split=0.2, \n",
    "                                   horizontal_flip=True)\n",
    "\n",
    "validation_datagen=ImageDataGenerator(rescale=1./255,\n",
    "                                   shear_range=0.2,\n",
    "                                   zoom_range=0.2,\n",
    "                                   validation_split=0.2, \n",
    "                                   horizontal_flip=True)"
   ]
  },
  {
   "cell_type": "code",
   "execution_count": 6,
   "id": "37577d05",
   "metadata": {},
   "outputs": [
    {
     "name": "stdout",
     "output_type": "stream",
     "text": [
      "Found 5663 images belonging to 5 classes.\n",
      "Found 1397 images belonging to 5 classes.\n"
     ]
    }
   ],
   "source": [
    "img_width,img_height =256,256\n",
    "input_shape=(img_width,img_height,3)\n",
    "batch_size =32\n",
    "\n",
    "train_generator =train_datagen.flow_from_directory(train_dir,\n",
    "                                                   target_size=(img_width,img_height),\n",
    "                                                   batch_size=batch_size)\n",
    "validation_generator = validation_datagen.flow_from_directory(\n",
    "                                                    val_dir, \n",
    "                                                    target_size=(img_height, img_width),\n",
    "                                                    batch_size=batch_size) "
   ]
  },
  {
   "cell_type": "code",
   "execution_count": 7,
   "id": "25281d76",
   "metadata": {},
   "outputs": [
    {
     "data": {
      "text/plain": [
       "{'Blindness': 0,\n",
       " 'Diabetic Retinopathy': 1,\n",
       " 'Glaucoma': 2,\n",
       " 'Normal': 3,\n",
       " 'Other Disease-Blindness': 4}"
      ]
     },
     "execution_count": 7,
     "metadata": {},
     "output_type": "execute_result"
    }
   ],
   "source": [
    "train_generator.class_indices"
   ]
  },
  {
   "cell_type": "markdown",
   "id": "e05045a0",
   "metadata": {},
   "source": [
    "#### VGG-16 Parameter Building"
   ]
  },
  {
   "cell_type": "code",
   "execution_count": 8,
   "id": "b9366290",
   "metadata": {},
   "outputs": [
    {
     "name": "stdout",
     "output_type": "stream",
     "text": [
      "Model: \"functional_1\"\n",
      "_________________________________________________________________\n",
      "Layer (type)                 Output Shape              Param #   \n",
      "=================================================================\n",
      "input_1 (InputLayer)         [(None, 256, 256, 3)]     0         \n",
      "_________________________________________________________________\n",
      "block1_conv1 (Conv2D)        (None, 256, 256, 64)      1792      \n",
      "_________________________________________________________________\n",
      "block1_conv2 (Conv2D)        (None, 256, 256, 64)      36928     \n",
      "_________________________________________________________________\n",
      "block1_pool (MaxPooling2D)   (None, 128, 128, 64)      0         \n",
      "_________________________________________________________________\n",
      "block2_conv1 (Conv2D)        (None, 128, 128, 128)     73856     \n",
      "_________________________________________________________________\n",
      "block2_conv2 (Conv2D)        (None, 128, 128, 128)     147584    \n",
      "_________________________________________________________________\n",
      "block2_pool (MaxPooling2D)   (None, 64, 64, 128)       0         \n",
      "_________________________________________________________________\n",
      "block3_conv1 (Conv2D)        (None, 64, 64, 256)       295168    \n",
      "_________________________________________________________________\n",
      "block3_conv2 (Conv2D)        (None, 64, 64, 256)       590080    \n",
      "_________________________________________________________________\n",
      "block3_conv3 (Conv2D)        (None, 64, 64, 256)       590080    \n",
      "_________________________________________________________________\n",
      "block3_pool (MaxPooling2D)   (None, 32, 32, 256)       0         \n",
      "_________________________________________________________________\n",
      "block4_conv1 (Conv2D)        (None, 32, 32, 512)       1180160   \n",
      "_________________________________________________________________\n",
      "block4_conv2 (Conv2D)        (None, 32, 32, 512)       2359808   \n",
      "_________________________________________________________________\n",
      "block4_conv3 (Conv2D)        (None, 32, 32, 512)       2359808   \n",
      "_________________________________________________________________\n",
      "block4_pool (MaxPooling2D)   (None, 16, 16, 512)       0         \n",
      "_________________________________________________________________\n",
      "block5_conv1 (Conv2D)        (None, 16, 16, 512)       2359808   \n",
      "_________________________________________________________________\n",
      "block5_conv2 (Conv2D)        (None, 16, 16, 512)       2359808   \n",
      "_________________________________________________________________\n",
      "block5_conv3 (Conv2D)        (None, 16, 16, 512)       2359808   \n",
      "_________________________________________________________________\n",
      "block5_pool (MaxPooling2D)   (None, 8, 8, 512)         0         \n",
      "_________________________________________________________________\n",
      "flatten (Flatten)            (None, 32768)             0         \n",
      "_________________________________________________________________\n",
      "dense (Dense)                (None, 5)                 163845    \n",
      "=================================================================\n",
      "Total params: 14,878,533\n",
      "Trainable params: 163,845\n",
      "Non-trainable params: 14,714,688\n",
      "_________________________________________________________________\n"
     ]
    }
   ],
   "source": [
    "vgg = VGG16(input_shape=(256,256,3), weights = 'imagenet', include_top = False)\n",
    "for layer in vgg.layers:\n",
    "    layer.trainable = False\n",
    "\n",
    "x = Flatten()(vgg.output)\n",
    "x = Dense(num_classes, activation = 'softmax')(x)\n",
    "model = Model(inputs = vgg.input, outputs = x)\n",
    "\n",
    "model.summary()"
   ]
  },
  {
   "cell_type": "code",
   "execution_count": 9,
   "id": "133edd31",
   "metadata": {},
   "outputs": [
    {
     "name": "stdout",
     "output_type": "stream",
     "text": [
      "Epoch 1/10\n",
      "176/176 [==============================] - 2021s 11s/step - loss: 0.6624 - accuracy: 0.7855 - val_loss: 0.3333 - val_accuracy: 0.8932\n",
      "Epoch 2/10\n",
      "176/176 [==============================] - 1937s 11s/step - loss: 0.3442 - accuracy: 0.8842 - val_loss: 0.3372 - val_accuracy: 0.8815\n",
      "Epoch 3/10\n",
      "176/176 [==============================] - 1981s 11s/step - loss: 0.2884 - accuracy: 0.8990 - val_loss: 0.2947 - val_accuracy: 0.8953\n",
      "Epoch 4/10\n",
      "176/176 [==============================] - 1903s 11s/step - loss: 0.2936 - accuracy: 0.9020 - val_loss: 0.3245 - val_accuracy: 0.8946\n",
      "Epoch 5/10\n",
      "176/176 [==============================] - 1851s 11s/step - loss: 0.2250 - accuracy: 0.9213 - val_loss: 0.2722 - val_accuracy: 0.9106\n",
      "Epoch 6/10\n",
      "176/176 [==============================] - 1895s 11s/step - loss: 0.2930 - accuracy: 0.9066 - val_loss: 0.2513 - val_accuracy: 0.9281\n",
      "Epoch 7/10\n",
      "176/176 [==============================] - 1871s 11s/step - loss: 0.2078 - accuracy: 0.9361 - val_loss: 0.3533 - val_accuracy: 0.8888\n",
      "Epoch 8/10\n",
      "176/176 [==============================] - 1873s 11s/step - loss: 0.2418 - accuracy: 0.9171 - val_loss: 0.4101 - val_accuracy: 0.8852\n",
      "Epoch 9/10\n",
      "176/176 [==============================] - 1997s 11s/step - loss: 0.2024 - accuracy: 0.9391 - val_loss: 0.2466 - val_accuracy: 0.9179\n",
      "Epoch 10/10\n",
      "176/176 [==============================] - 1984s 11s/step - loss: 0.2206 - accuracy: 0.9299 - val_loss: 0.2799 - val_accuracy: 0.9142\n"
     ]
    }
   ],
   "source": [
    "opt=keras.optimizers.Adam(lr=0.001)\n",
    "model.compile(optimizer=opt,loss='categorical_crossentropy',metrics=['accuracy'])\n",
    "train=model.fit(train_generator,\n",
    "                          epochs=10,\n",
    "                          steps_per_epoch=train_generator.samples // batch_size,\n",
    "                          validation_data=validation_generator,\n",
    "                          validation_steps= validation_generator.samples // batch_size,\n",
    "                          verbose=1)"
   ]
  },
  {
   "cell_type": "markdown",
   "id": "f2dc70a1",
   "metadata": {},
   "source": [
    "#### Model Save :-"
   ]
  },
  {
   "cell_type": "code",
   "execution_count": 10,
   "id": "e05176af",
   "metadata": {},
   "outputs": [],
   "source": [
    "from tensorflow.keras.models import load_model\n",
    "model.save('5-O-D_VGG16.h5')"
   ]
  },
  {
   "cell_type": "markdown",
   "id": "78f5d68a",
   "metadata": {},
   "source": [
    "#### Accuracy Graph :-"
   ]
  },
  {
   "cell_type": "code",
   "execution_count": 11,
   "id": "4b649171",
   "metadata": {},
   "outputs": [
    {
     "data": {
      "text/plain": [
       "{'loss': [0.662409245967865,\n",
       "  0.3442070186138153,\n",
       "  0.2884329557418823,\n",
       "  0.29363808035850525,\n",
       "  0.22501122951507568,\n",
       "  0.2929916977882385,\n",
       "  0.20783081650733948,\n",
       "  0.2418426275253296,\n",
       "  0.20236678421497345,\n",
       "  0.22055208683013916],\n",
       " 'accuracy': [0.7854732871055603,\n",
       "  0.8842123746871948,\n",
       "  0.8989522457122803,\n",
       "  0.9019712209701538,\n",
       "  0.9213283658027649,\n",
       "  0.9065885543823242,\n",
       "  0.9360681772232056,\n",
       "  0.917066216468811,\n",
       "  0.9390872120857239,\n",
       "  0.9298526048660278],\n",
       " 'val_loss': [0.33329465985298157,\n",
       "  0.33720681071281433,\n",
       "  0.2946878969669342,\n",
       "  0.32446056604385376,\n",
       "  0.27221858501434326,\n",
       "  0.2512568235397339,\n",
       "  0.3533358573913574,\n",
       "  0.4100720286369324,\n",
       "  0.2466358095407486,\n",
       "  0.2798643112182617],\n",
       " 'val_accuracy': [0.8931686282157898,\n",
       "  0.8815407156944275,\n",
       "  0.895348846912384,\n",
       "  0.8946220874786377,\n",
       "  0.9106104373931885,\n",
       "  0.9280523061752319,\n",
       "  0.8888081312179565,\n",
       "  0.8851743936538696,\n",
       "  0.9178779125213623,\n",
       "  0.9142441749572754]}"
      ]
     },
     "execution_count": 11,
     "metadata": {},
     "output_type": "execute_result"
    }
   ],
   "source": [
    "train.history"
   ]
  },
  {
   "cell_type": "code",
   "execution_count": 21,
   "id": "d95b4505",
   "metadata": {},
   "outputs": [
    {
     "data": {
      "image/png": "[encoded data removed]",
      "text/plain": [
       "<Figure size 432x288 with 1 Axes>"
      ]
     },
     "metadata": {
      "needs_background": "light"
     },
     "output_type": "display_data"
    },
    {
     "data": {
      "image/png": "[encoded data removed]",
      "text/plain": [
       "<Figure size 432x288 with 1 Axes>"
      ]
     },
     "metadata": {
      "needs_background": "light"
     },
     "output_type": "display_data"
    }
   ],
   "source": [
    "def plot_accuracy(train,title):\n",
    "    plt.title(title)\n",
    "    plt.plot(train.history['accuracy']) \n",
    "    plt.plot(train.history['val_accuracy']) \n",
    "    plt.ylabel('accuracy')\n",
    "    plt.xlabel('epoch')\n",
    "    plt.legend(['train_accuracy', 'validation_accuracy'], loc='best')\n",
    "    plt.show()\n",
    "    \n",
    "def plot_loss(train,title):\n",
    "    plt.title(title)\n",
    "    plt.plot(train.history['loss'])\n",
    "    plt.plot(train.history['val_loss'])\n",
    "    plt.ylabel('loss')\n",
    "    plt.xlabel('epoch')\n",
    "    plt.legend(['train_loss', 'validation_loss'], loc='best')\n",
    "    plt.show()\n",
    "\n",
    "    \n",
    "plot_accuracy(train,'Training and Validation Accuracy')\n",
    "plot_loss(train,'Training and Validation Loss')"
   ]
  },
  {
   "cell_type": "markdown",
   "id": "27b2c056",
   "metadata": {},
   "source": [
    "#### Confusion Matrix :-"
   ]
  },
  {
   "cell_type": "markdown",
   "id": "49b324ab",
   "metadata": {},
   "source": [
    "##### Training :-"
   ]
  },
  {
   "cell_type": "code",
   "execution_count": 22,
   "id": "95b0b421",
   "metadata": {},
   "outputs": [],
   "source": [
    "# train_generator.reset()\n",
    "predictions = model.predict_generator(generator = train_generator)\n",
    "y_pred = [np.argmax(probas) for probas in predictions]\n",
    "y_test = train_generator.classes"
   ]
  },
  {
   "cell_type": "code",
   "execution_count": 23,
   "id": "e1793632",
   "metadata": {},
   "outputs": [],
   "source": [
    "labels_map = (train_generator.class_indices)\n",
    "labels = dict((v,k) for k,v in labels_map.items())\n",
    "predict = [labels[k] for k in y_pred]\n",
    "\n",
    "filenames = train_generator.filenames\n",
    "results = pd.DataFrame({\"Filename\":filenames,\"Predictions\":predict})"
   ]
  },
  {
   "cell_type": "code",
   "execution_count": 24,
   "id": "020f5e75",
   "metadata": {},
   "outputs": [],
   "source": [
    "from sklearn.metrics import confusion_matrix\n",
    "def plot_confusion_matrix(test_y,predict_y):\n",
    "    c = confusion_matrix(test_y, predict_y)\n",
    "    cmap = sns.light_palette(\"green\")\n",
    "    plt.figure(figsize=(10,4))\n",
    "    sns.heatmap(c, annot = True, cmap=cmap, fmt=\".1f\", xticklabels=labels, yticklabels=labels)\n",
    "    plt.xlabel('Predicted Class')\n",
    "    plt.ylabel('Original Class')\n",
    "    plt.show()"
   ]
  },
  {
   "cell_type": "code",
   "execution_count": 25,
   "id": "ccba6828",
   "metadata": {},
   "outputs": [
    {
     "data": {
      "image/png": "[encoded data removed]",
      "text/plain": [
       "<Figure size 720x288 with 2 Axes>"
      ]
     },
     "metadata": {
      "needs_background": "light"
     },
     "output_type": "display_data"
    }
   ],
   "source": [
    "import seaborn as sns\n",
    "plot_confusion_matrix(y_test, y_pred) "
   ]
  },
  {
   "cell_type": "markdown",
   "id": "3dd4c180",
   "metadata": {},
   "source": [
    "##### Validation :-"
   ]
  },
  {
   "cell_type": "code",
   "execution_count": 26,
   "id": "d1bde99b",
   "metadata": {},
   "outputs": [],
   "source": [
    "validation_generator.reset()\n",
    "predictions = model.predict_generator(generator = validation_generator)\n",
    "y_pred = [np.argmax(probas) for probas in predictions]\n",
    "y_test = validation_generator.classes"
   ]
  },
  {
   "cell_type": "code",
   "execution_count": 27,
   "id": "1aa7e84a",
   "metadata": {},
   "outputs": [],
   "source": [
    "labels_map = (train_generator.class_indices)\n",
    "labels = dict((v,k) for k,v in labels_map.items())\n",
    "predict = [labels[k] for k in y_pred]\n",
    "\n",
    "filenames = validation_generator.filenames\n",
    "results = pd.DataFrame({\"Filename\":filenames,\"Predictions\":predict})"
   ]
  },
  {
   "cell_type": "code",
   "execution_count": 34,
   "id": "d2618943",
   "metadata": {},
   "outputs": [],
   "source": [
    "from sklearn.metrics import confusion_matrix\n",
    "def plot_confusion_matrix(test_y,predict_y):\n",
    "    c = confusion_matrix(test_y, predict_y)\n",
    "    cmap = sns.light_palette(\"green\")\n",
    "    plt.figure(figsize=(10,4))\n",
    "    sns.heatmap(c, annot = True, cmap=cmap, fmt=\".1f\", xticklabels=labels, yticklabels=labels)\n",
    "    plt.xlabel('Predicted Class')\n",
    "    plt.ylabel('Original Class')\n",
    "    plt.show()"
   ]
  },
  {
   "cell_type": "code",
   "execution_count": 35,
   "id": "cd42509e",
   "metadata": {},
   "outputs": [
    {
     "data": {
      "image/png": "[encoded data removed]",
      "text/plain": [
       "<Figure size 720x288 with 2 Axes>"
      ]
     },
     "metadata": {
      "needs_background": "light"
     },
     "output_type": "display_data"
    }
   ],
   "source": [
    "import seaborn as sns\n",
    "plot_confusion_matrix(y_test, y_pred) "
   ]
  },
  {
   "cell_type": "code",
   "execution_count": null,
   "id": "6b5f5e0d",
   "metadata": {},
   "outputs": [],
   "source": []
  }
 ],
 "metadata": {
  "kernelspec": {
   "display_name": "Python 3",
   "language": "python",
   "name": "python3"
  },
  "language_info": {
   "codemirror_mode": {
    "name": "ipython",
    "version": 3
   },
   "file_extension": ".py",
   "mimetype": "text/x-python",
   "name": "python",
   "nbconvert_exporter": "python",
   "pygments_lexer": "ipython3",
   "version": "3.8.8"
  }
 },
 "nbformat": 4,
 "nbformat_minor": 5
}
