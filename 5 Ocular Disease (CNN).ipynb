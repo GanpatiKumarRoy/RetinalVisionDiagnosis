{
 "cells": [
  {
   "cell_type": "markdown",
   "id": "856b9842",
   "metadata": {},
   "source": [
    "#### Importing the libraries :-"
   ]
  },
  {
   "cell_type": "code",
   "execution_count": null,
   "id": "aefe2c91",
   "metadata": {},
   "outputs": [],
   "source": [
    "import numpy as np\n",
    "import pandas as pd\n",
    "import matplotlib.pyplot as plt                                                  \n",
    "import glob\n",
    "import os\n",
    "\n",
    "import tensorflow as tf\n",
    "import keras\n",
    "from keras.models import Model\n",
    "from keras.layers import Dense,Dropout,Flatten\n",
    "\n",
    "from keras.preprocessing.image import ImageDataGenerator\n",
    "from keras.layers import Conv2D,MaxPooling2D,Activation,AveragePooling2D,BatchNormalization\n",
    "from keras.models import Sequential\n",
    "\n",
    "import warnings\n",
    "warnings.filterwarnings(\"ignore\")\n",
    "print(\"Module and Packages imported successfully.....!\")"
   ]
  },
  {
   "cell_type": "markdown",
   "id": "e5de023c",
   "metadata": {},
   "source": [
    "#### Loading reading :-"
   ]
  },
  {
   "cell_type": "code",
   "execution_count": 26,
   "id": "eba2a0d0",
   "metadata": {},
   "outputs": [],
   "source": [
    "train_dir = \"C:/Users/Ganpati Kumar Roy/Desktop/5 Ocular Disease/Training/\"\n",
    "val_dir = \"C:/Users/Ganpati Kumar Roy/Desktop/5 Ocular Disease/Validation/\""
   ]
  },
  {
   "cell_type": "markdown",
   "id": "a82a7f83",
   "metadata": {},
   "source": [
    "#### Data reading :-"
   ]
  },
  {
   "cell_type": "code",
   "execution_count": 27,
   "id": "b6ef104a",
   "metadata": {},
   "outputs": [],
   "source": [
    "def get_files(directory):\n",
    "  if not os.path.exists(directory):\n",
    "    return 0\n",
    "  count=0\n",
    "  for current_path,dirs,files in os.walk(directory):\n",
    "    for dr in dirs:\n",
    "      count+= len(glob.glob(os.path.join(current_path,dr+\"/*\")))\n",
    "  return count    "
   ]
  },
  {
   "cell_type": "code",
   "execution_count": 28,
   "id": "3b7a8961",
   "metadata": {},
   "outputs": [
    {
     "name": "stdout",
     "output_type": "stream",
     "text": [
      "Classes are :-  5\n",
      "Total train images :- 5663\n",
      "Total validation images :- 1397\n"
     ]
    }
   ],
   "source": [
    "train_samples =get_files(train_dir)\n",
    "num_classes=len(glob.glob(train_dir+\"/*\"))\n",
    "val_samples=get_files(val_dir) \n",
    "print(\"Classes are :- \", num_classes)\n",
    "print(\"Total train images :-\", train_samples)\n",
    "print(\"Total validation images :-\", val_samples)"
   ]
  },
  {
   "cell_type": "markdown",
   "id": "d72b3d5e",
   "metadata": {},
   "source": [
    "#### Data preprocessing :-"
   ]
  },
  {
   "cell_type": "code",
   "execution_count": 29,
   "id": "c19c2bae",
   "metadata": {},
   "outputs": [],
   "source": [
    "train_datagen=ImageDataGenerator(rescale=1./255,\n",
    "                                   shear_range=0.2,\n",
    "                                   zoom_range=0.2,\n",
    "                                   validation_split=0.2, \n",
    "                                   horizontal_flip=True)\n",
    "\n",
    "validation_datagen=ImageDataGenerator(rescale=1./255,\n",
    "                                   shear_range=0.2,\n",
    "                                   zoom_range=0.2,\n",
    "                                   validation_split=0.2, \n",
    "                                   horizontal_flip=True)"
   ]
  },
  {
   "cell_type": "code",
   "execution_count": 30,
   "id": "b9ac193c",
   "metadata": {},
   "outputs": [
    {
     "name": "stdout",
     "output_type": "stream",
     "text": [
      "Found 5663 images belonging to 5 classes.\n",
      "Found 1397 images belonging to 5 classes.\n"
     ]
    }
   ],
   "source": [
    "img_width,img_height =256,256\n",
    "input_shape=(img_width,img_height,3)\n",
    "batch_size =32\n",
    "\n",
    "train_generator =train_datagen.flow_from_directory(train_dir,\n",
    "                                                   target_size=(img_width,img_height),\n",
    "                                                   batch_size=batch_size)\n",
    "validation_generator = validation_datagen.flow_from_directory(\n",
    "                                                    val_dir, \n",
    "                                                    target_size=(img_height, img_width),\n",
    "                                                    batch_size=batch_size) "
   ]
  },
  {
   "cell_type": "code",
   "execution_count": 31,
   "id": "771d41a4",
   "metadata": {},
   "outputs": [
    {
     "data": {
      "text/plain": [
       "{'Blindness': 0,\n",
       " 'Diabetic Retinopathy': 1,\n",
       " 'Glaucoma': 2,\n",
       " 'Normal': 3,\n",
       " 'Other Disease-Blindness': 4}"
      ]
     },
     "execution_count": 31,
     "metadata": {},
     "output_type": "execute_result"
    }
   ],
   "source": [
    "train_generator.class_indices"
   ]
  },
  {
   "cell_type": "markdown",
   "id": "e61a30cb",
   "metadata": {},
   "source": [
    "#### CNN 3 Layer Parameter Building"
   ]
  },
  {
   "cell_type": "code",
   "execution_count": 32,
   "id": "d82e22d1",
   "metadata": {},
   "outputs": [
    {
     "name": "stdout",
     "output_type": "stream",
     "text": [
      "Model: \"sequential_1\"\n",
      "_________________________________________________________________\n",
      "Layer (type)                 Output Shape              Param #   \n",
      "=================================================================\n",
      "conv2d_3 (Conv2D)            (None, 252, 252, 32)      2432      \n",
      "_________________________________________________________________\n",
      "max_pooling2d_3 (MaxPooling2 (None, 84, 84, 32)        0         \n",
      "_________________________________________________________________\n",
      "conv2d_4 (Conv2D)            (None, 82, 82, 32)        9248      \n",
      "_________________________________________________________________\n",
      "max_pooling2d_4 (MaxPooling2 (None, 41, 41, 32)        0         \n",
      "_________________________________________________________________\n",
      "conv2d_5 (Conv2D)            (None, 39, 39, 64)        18496     \n",
      "_________________________________________________________________\n",
      "max_pooling2d_5 (MaxPooling2 (None, 19, 19, 64)        0         \n",
      "_________________________________________________________________\n",
      "flatten_1 (Flatten)          (None, 23104)             0         \n",
      "_________________________________________________________________\n",
      "dense_1 (Dense)              (None, 512)               11829760  \n",
      "_________________________________________________________________\n",
      "dropout (Dropout)            (None, 512)               0         \n",
      "_________________________________________________________________\n",
      "dense_2 (Dense)              (None, 128)               65664     \n",
      "_________________________________________________________________\n",
      "dense_3 (Dense)              (None, 5)                 645       \n",
      "=================================================================\n",
      "Total params: 11,926,245\n",
      "Trainable params: 11,926,245\n",
      "Non-trainable params: 0\n",
      "_________________________________________________________________\n"
     ]
    }
   ],
   "source": [
    "model = Sequential()\n",
    "model.add(Conv2D(32, (5, 5),input_shape=input_shape,activation='relu'))\n",
    "model.add(MaxPooling2D(pool_size=(3, 3)))\n",
    "model.add(Conv2D(32, (3, 3),activation='relu'))\n",
    "model.add(MaxPooling2D(pool_size=(2, 2)))\n",
    "model.add(Conv2D(64, (3, 3),activation='relu'))\n",
    "model.add(MaxPooling2D(pool_size=(2, 2)))   \n",
    "model.add(Flatten())\n",
    "model.add(Dense(512,activation='relu'))\n",
    "model.add(Dropout(0.25))\n",
    "model.add(Dense(128,activation='relu'))          \n",
    "model.add(Dense(num_classes,activation='softmax'))\n",
    "model.summary()"
   ]
  },
  {
   "cell_type": "code",
   "execution_count": 33,
   "id": "608439cf",
   "metadata": {},
   "outputs": [
    {
     "name": "stdout",
     "output_type": "stream",
     "text": [
      "Epoch 1/10\n",
      "176/176 [==============================] - 1975s 11s/step - loss: 0.9929 - accuracy: 0.6050 - val_loss: 0.7912 - val_accuracy: 0.7013\n",
      "Epoch 2/10\n",
      "176/176 [==============================] - 1171s 7s/step - loss: 0.5820 - accuracy: 0.7849 - val_loss: 0.4946 - val_accuracy: 0.8161\n",
      "Epoch 3/10\n",
      "176/176 [==============================] - 1108s 6s/step - loss: 0.4551 - accuracy: 0.8327 - val_loss: 0.4691 - val_accuracy: 0.8379\n",
      "Epoch 4/10\n",
      "176/176 [==============================] - 1098s 6s/step - loss: 0.3534 - accuracy: 0.8762 - val_loss: 0.3632 - val_accuracy: 0.8612\n",
      "Epoch 5/10\n",
      "176/176 [==============================] - 1196s 7s/step - loss: 0.3014 - accuracy: 0.8899 - val_loss: 0.3265 - val_accuracy: 0.8779\n",
      "Epoch 6/10\n",
      "176/176 [==============================] - 1205s 7s/step - loss: 0.2660 - accuracy: 0.9041 - val_loss: 0.3007 - val_accuracy: 0.8735\n",
      "Epoch 7/10\n",
      "176/176 [==============================] - 1142s 6s/step - loss: 0.2523 - accuracy: 0.9061 - val_loss: 0.2886 - val_accuracy: 0.8903\n",
      "Epoch 8/10\n",
      "176/176 [==============================] - 1104s 6s/step - loss: 0.2471 - accuracy: 0.9077 - val_loss: 0.3134 - val_accuracy: 0.8779\n",
      "Epoch 9/10\n",
      "176/176 [==============================] - 1088s 6s/step - loss: 0.2225 - accuracy: 0.9149 - val_loss: 0.2721 - val_accuracy: 0.8808\n",
      "Epoch 10/10\n",
      "176/176 [==============================] - 1085s 6s/step - loss: 0.2012 - accuracy: 0.9251 - val_loss: 0.2429 - val_accuracy: 0.8990\n"
     ]
    }
   ],
   "source": [
    "opt=keras.optimizers.Adam(lr=0.001)\n",
    "model.compile(optimizer=opt,loss='categorical_crossentropy',metrics=['accuracy'])\n",
    "train=model.fit(train_generator,\n",
    "                          epochs=10,\n",
    "                          steps_per_epoch=train_generator.samples // batch_size,\n",
    "                          validation_data=validation_generator,\n",
    "                          validation_steps= validation_generator.samples // batch_size,\n",
    "                          verbose=1)"
   ]
  },
  {
   "cell_type": "markdown",
   "id": "e3cb7b2d",
   "metadata": {},
   "source": [
    "#### Model Saving :-"
   ]
  },
  {
   "cell_type": "code",
   "execution_count": 34,
   "id": "a136d582",
   "metadata": {},
   "outputs": [],
   "source": [
    "from tensorflow.keras.models import load_model\n",
    "model.save('5-O-D_CNN.h5')"
   ]
  },
  {
   "cell_type": "markdown",
   "id": "1fc2830d",
   "metadata": {},
   "source": [
    "#### Accuracy graph :-"
   ]
  },
  {
   "cell_type": "code",
   "execution_count": 35,
   "id": "cfb7273e",
   "metadata": {},
   "outputs": [
    {
     "data": {
      "text/plain": [
       "{'loss': [0.9929320216178894,\n",
       "  0.5820430517196655,\n",
       "  0.4550572633743286,\n",
       "  0.353367418050766,\n",
       "  0.30143868923187256,\n",
       "  0.2660229504108429,\n",
       "  0.2523314654827118,\n",
       "  0.24711813032627106,\n",
       "  0.22250433266162872,\n",
       "  0.20116229355335236],\n",
       " 'accuracy': [0.6050435304641724,\n",
       "  0.7849404811859131,\n",
       "  0.8327117562294006,\n",
       "  0.8762209415435791,\n",
       "  0.8898952007293701,\n",
       "  0.9041022658348083,\n",
       "  0.906055748462677,\n",
       "  0.9076540470123291,\n",
       "  0.9149351716041565,\n",
       "  0.9250577092170715],\n",
       " 'val_loss': [0.7911989092826843,\n",
       "  0.49460268020629883,\n",
       "  0.46905770897865295,\n",
       "  0.3631620407104492,\n",
       "  0.32651767134666443,\n",
       "  0.3007184863090515,\n",
       "  0.2885534167289734,\n",
       "  0.3134392201900482,\n",
       "  0.2721359133720398,\n",
       "  0.2428753823041916],\n",
       " 'val_accuracy': [0.7013081312179565,\n",
       "  0.8161337375640869,\n",
       "  0.8379360437393188,\n",
       "  0.8611918687820435,\n",
       "  0.8779069781303406,\n",
       "  0.8735465407371521,\n",
       "  0.8902616500854492,\n",
       "  0.8779069781303406,\n",
       "  0.8808139562606812,\n",
       "  0.898982584476471]}"
      ]
     },
     "execution_count": 35,
     "metadata": {},
     "output_type": "execute_result"
    }
   ],
   "source": [
    "train.history"
   ]
  },
  {
   "cell_type": "code",
   "execution_count": 36,
   "id": "5cc28ea0",
   "metadata": {},
   "outputs": [
    {
     "data": {
      "image/png": "[encoded data removed]",
      "text/plain": [
       "<Figure size 432x288 with 1 Axes>"
      ]
     },
     "metadata": {
      "needs_background": "light"
     },
     "output_type": "display_data"
    },
    {
     "data": {
      "image/png": "[encoded data removed]",
      "text/plain": [
       "<Figure size 432x288 with 1 Axes>"
      ]
     },
     "metadata": {
      "needs_background": "light"
     },
     "output_type": "display_data"
    }
   ],
   "source": [
    "def plot_accuracy(train,title):\n",
    "    plt.title(title)\n",
    "    plt.plot(train.history['accuracy']) \n",
    "    plt.plot(train.history['val_accuracy']) \n",
    "    plt.ylabel('accuracy')\n",
    "    plt.xlabel('epoch')\n",
    "    plt.legend(['train_accuracy', 'validation_accuracy'], loc='best')\n",
    "    plt.show()\n",
    "    \n",
    "def plot_loss(train,title):\n",
    "    plt.title(title)\n",
    "    plt.plot(train.history['loss'])\n",
    "    plt.plot(train.history['val_loss'])\n",
    "    plt.ylabel('loss')\n",
    "    plt.xlabel('epoch')\n",
    "    plt.legend(['train_loss', 'validation_loss'], loc='best')\n",
    "    plt.show()\n",
    "\n",
    "    \n",
    "plot_accuracy(train,'Training and Validation Accuracy')\n",
    "plot_loss(train,'Training and Validation Loss')"
   ]
  },
  {
   "cell_type": "markdown",
   "id": "246be83c",
   "metadata": {},
   "source": [
    "#### Confusion Matrix :-"
   ]
  },
  {
   "cell_type": "markdown",
   "id": "13c047e2",
   "metadata": {},
   "source": [
    "##### Training :-"
   ]
  },
  {
   "cell_type": "code",
   "execution_count": 37,
   "id": "bdf08f60",
   "metadata": {},
   "outputs": [
    {
     "name": "stdout",
     "output_type": "stream",
     "text": [
      "WARNING:tensorflow:From <ipython-input-37-78cb6ab4ebd2>:2: Model.predict_generator (from tensorflow.python.keras.engine.training) is deprecated and will be removed in a future version.\n",
      "Instructions for updating:\n",
      "Please use Model.predict, which supports generators.\n"
     ]
    }
   ],
   "source": [
    "train_generator.reset()\n",
    "predictions = model.predict_generator(generator = train_generator)\n",
    "y_pred = [np.argmax(probas) for probas in predictions]\n",
    "y_test = train_generator.classes"
   ]
  },
  {
   "cell_type": "code",
   "execution_count": 38,
   "id": "a2047fa5",
   "metadata": {},
   "outputs": [],
   "source": [
    "labels_map = (train_generator.class_indices)\n",
    "labels = dict((v,k) for k,v in labels_map.items())\n",
    "predict = [labels[k] for k in y_pred]\n",
    "\n",
    "filenames = train_generator.filenames\n",
    "results = pd.DataFrame({\"Filename\":filenames,\"Predictions\":predict})"
   ]
  },
  {
   "cell_type": "code",
   "execution_count": 43,
   "id": "1e081348",
   "metadata": {},
   "outputs": [],
   "source": [
    "from sklearn.metrics import confusion_matrix\n",
    "def plot_confusion_matrix(test_y,predict_y):\n",
    "    c = confusion_matrix(test_y, predict_y)\n",
    "    cmap = sns.light_palette(\"black\")\n",
    "    plt.figure(figsize=(10,4))\n",
    "    sns.heatmap(c, annot = True, cmap=cmap, fmt=\".1f\", xticklabels=labels, yticklabels=labels)\n",
    "    plt.xlabel('Predicted Class')\n",
    "    plt.ylabel('Original Class')\n",
    "    plt.show()"
   ]
  },
  {
   "cell_type": "code",
   "execution_count": 44,
   "id": "2dfb274d",
   "metadata": {},
   "outputs": [
    {
     "data": {
      "image/png": "[encoded data removed]",
      "text/plain": [
       "<Figure size 720x288 with 2 Axes>"
      ]
     },
     "metadata": {
      "needs_background": "light"
     },
     "output_type": "display_data"
    }
   ],
   "source": [
    "import seaborn as sns\n",
    "plot_confusion_matrix(y_test, y_pred) "
   ]
  },
  {
   "cell_type": "markdown",
   "id": "e0646b05",
   "metadata": {},
   "source": [
    "##### Validation :-"
   ]
  },
  {
   "cell_type": "code",
   "execution_count": 45,
   "id": "dd81ef48",
   "metadata": {},
   "outputs": [],
   "source": [
    "validation_generator.reset()\n",
    "predictions = model.predict_generator(generator = validation_generator)\n",
    "y_pred = [np.argmax(probas) for probas in predictions]\n",
    "y_test = validation_generator.classes"
   ]
  },
  {
   "cell_type": "code",
   "execution_count": 46,
   "id": "fe853f65",
   "metadata": {},
   "outputs": [],
   "source": [
    "labels_map = (train_generator.class_indices)\n",
    "labels = dict((v,k) for k,v in labels_map.items())\n",
    "predict = [labels[k] for k in y_pred]\n",
    "\n",
    "filenames = validation_generator.filenames\n",
    "results = pd.DataFrame({\"Filename\":filenames,\"Predictions\":predict})"
   ]
  },
  {
   "cell_type": "code",
   "execution_count": 47,
   "id": "363d46c2",
   "metadata": {},
   "outputs": [],
   "source": [
    "from sklearn.metrics import confusion_matrix\n",
    "def plot_confusion_matrix(test_y,predict_y):\n",
    "    c = confusion_matrix(test_y, predict_y)\n",
    "    cmap = sns.light_palette(\"black\")\n",
    "    plt.figure(figsize=(10,4))\n",
    "    sns.heatmap(c, annot = True, cmap=cmap, fmt=\".1f\", xticklabels=labels, yticklabels=labels)\n",
    "    plt.xlabel('Predicted Class')\n",
    "    plt.ylabel('Original Class')\n",
    "    plt.show()"
   ]
  },
  {
   "cell_type": "code",
   "execution_count": 48,
   "id": "e1f5da0e",
   "metadata": {},
   "outputs": [
    {
     "data": {
      "image/png": "[encoded data removed]",
      "text/plain": [
       "<Figure size 720x288 with 2 Axes>"
      ]
     },
     "metadata": {
      "needs_background": "light"
     },
     "output_type": "display_data"
    }
   ],
   "source": [
    "import seaborn as sns\n",
    "plot_confusion_matrix(y_test, y_pred) "
   ]
  },
  {
   "cell_type": "code",
   "execution_count": null,
   "id": "ed726613",
   "metadata": {},
   "outputs": [],
   "source": []
  }
 ],
 "metadata": {
  "kernelspec": {
   "display_name": "Python 3",
   "language": "python",
   "name": "python3"
  },
  "language_info": {
   "codemirror_mode": {
    "name": "ipython",
    "version": 3
   },
   "file_extension": ".py",
   "mimetype": "text/x-python",
   "name": "python",
   "nbconvert_exporter": "python",
   "pygments_lexer": "ipython3",
   "version": "3.8.8"
  }
 },
 "nbformat": 4,
 "nbformat_minor": 5
}
