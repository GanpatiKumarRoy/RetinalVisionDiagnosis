{
 "cells": [
  {
   "cell_type": "markdown",
   "id": "8f446c8c",
   "metadata": {},
   "source": [
    "#### About Dataset :--\n",
    "* Dataset is downloaded from IEEE dataport.\n",
    "* There are 10 classes in the dataset which contain 10 types of eye disease.\n",
    "** Diabetic Retinopathy :- It is an eye disease that can cause vision loss and blindness in people who have diabetes and  it affects the blood vessels in the retina.\n",
    "** Glaucoma Positive :- Glaucoma is an eye disease that damage the optic nerve and optic nerve supplies visual information from eye to brain.\n",
    "** Glaucoma Negative\n",
    "** Maculopathy :- It is a disease that affects the back of the retina, called the macula. The macula controls the ability to read, see fine detail in objects and recognize faces and colors.\n",
    "** Large Optic Cup :- Optic cup is the white, cup-like area in the center of the optic disc.\n",
    "** Blindness\n",
    "** Blur Fundus\n",
    "** BRVO :- Branch Retinal Vein Occlusion is a blockage of one or more branches of the central retinal vein, which runs through the optic nerve.\n",
    "** Pathological Myopia :- Pathological myopia is an extremely high amount of nearsightedness that causes a major alteration of the shape or globe of the eye, which may lead to profound vision loss.\n",
    "** Rhegmatogenous RD :- Rhegmatogenous detachments are caused by a hole or tear in the retina that allows fluid to pass through and collect underneath the retina, pulling the retina away from underlying tissues. \n"
   ]
  },
  {
   "cell_type": "markdown",
   "id": "89245d7a",
   "metadata": {},
   "source": [
    "#### Importing the libraries :-"
   ]
  },
  {
   "cell_type": "code",
   "execution_count": 1,
   "id": "e47e6051",
   "metadata": {},
   "outputs": [
    {
     "name": "stdout",
     "output_type": "stream",
     "text": [
      "Module and Packages imported successfully.....!\n"
     ]
    }
   ],
   "source": [
    "import numpy as np\n",
    "import pandas as pd\n",
    "import matplotlib.pyplot as plt\n",
    "import glob\n",
    "import os\n",
    "\n",
    "import tensorflow as tf\n",
    "import keras\n",
    "from keras.models import Model\n",
    "from keras.layers import Flatten, Dense\n",
    "from keras.applications import VGG19\n",
    "\n",
    "from keras.preprocessing.image import ImageDataGenerator\n",
    "from keras.applications.vgg19 import preprocess_input\n",
    "\n",
    "import warnings\n",
    "warnings.filterwarnings(\"ignore\")\n",
    "print(\"Module and Packages imported successfully.....!\")"
   ]
  },
  {
   "cell_type": "markdown",
   "id": "4b19c00e",
   "metadata": {},
   "source": [
    "#### Loading dataset :-"
   ]
  },
  {
   "cell_type": "code",
   "execution_count": 2,
   "id": "280ce152",
   "metadata": {},
   "outputs": [],
   "source": [
    "train_dir = \"C:/Users/Ganpati Kumar Roy/Desktop/5 Ocular Disease/Training/\"\n",
    "val_dir = \"C:/Users/Ganpati Kumar Roy/Desktop/5 Ocular Disease/Validation/\""
   ]
  },
  {
   "cell_type": "markdown",
   "id": "28ba5d79",
   "metadata": {},
   "source": [
    "#### Data reading :-"
   ]
  },
  {
   "cell_type": "code",
   "execution_count": 3,
   "id": "5410177e",
   "metadata": {},
   "outputs": [],
   "source": [
    "def get_files(directory):\n",
    "  if not os.path.exists(directory):\n",
    "    return 0\n",
    "  count=0\n",
    "  for current_path,dirs,files in os.walk(directory):\n",
    "    for dr in dirs:\n",
    "      count+= len(glob.glob(os.path.join(current_path,dr+\"/*\")))\n",
    "  return count    "
   ]
  },
  {
   "cell_type": "code",
   "execution_count": 4,
   "id": "6a371f43",
   "metadata": {},
   "outputs": [
    {
     "name": "stdout",
     "output_type": "stream",
     "text": [
      "Classes are :-  5\n",
      "Total train images :- 5663\n",
      "Total validation images :- 1397\n"
     ]
    }
   ],
   "source": [
    "train_samples =get_files(train_dir)\n",
    "num_classes=len(glob.glob(train_dir+\"/*\"))\n",
    "val_samples=get_files(val_dir) \n",
    "print(\"Classes are :- \", num_classes)\n",
    "print(\"Total train images :-\", train_samples)\n",
    "print(\"Total validation images :-\", val_samples)"
   ]
  },
  {
   "cell_type": "markdown",
   "id": "d8a5ff86",
   "metadata": {},
   "source": [
    "#### Data preprocessing :-"
   ]
  },
  {
   "cell_type": "code",
   "execution_count": 5,
   "id": "735e3d27",
   "metadata": {},
   "outputs": [],
   "source": [
    "train_datagen=ImageDataGenerator(rescale=1./255,\n",
    "                                   shear_range=0.2,\n",
    "                                   zoom_range=0.2,\n",
    "                                   validation_split=0.2, \n",
    "                                   horizontal_flip=True)\n",
    "\n",
    "validation_datagen=ImageDataGenerator(rescale=1./255,\n",
    "                                   shear_range=0.2,\n",
    "                                   zoom_range=0.2,\n",
    "                                   validation_split=0.2, \n",
    "                                   horizontal_flip=True)"
   ]
  },
  {
   "cell_type": "code",
   "execution_count": 6,
   "id": "eb375a70",
   "metadata": {},
   "outputs": [
    {
     "name": "stdout",
     "output_type": "stream",
     "text": [
      "Found 5663 images belonging to 5 classes.\n",
      "Found 1397 images belonging to 5 classes.\n"
     ]
    }
   ],
   "source": [
    "img_width,img_height =256,256\n",
    "input_shape=(img_width,img_height,3)\n",
    "batch_size =32\n",
    "\n",
    "train_generator =train_datagen.flow_from_directory(train_dir,\n",
    "                                                   target_size=(img_width,img_height),\n",
    "                                                   batch_size=batch_size)\n",
    "validation_generator = validation_datagen.flow_from_directory(\n",
    "                                                    val_dir, \n",
    "                                                    target_size=(img_height, img_width),\n",
    "                                                    batch_size=batch_size) "
   ]
  },
  {
   "cell_type": "code",
   "execution_count": 7,
   "id": "f2af3aa0",
   "metadata": {},
   "outputs": [
    {
     "data": {
      "text/plain": [
       "{'Blindness': 0,\n",
       " 'Diabetic Retinopathy': 1,\n",
       " 'Glaucoma': 2,\n",
       " 'Normal': 3,\n",
       " 'Other Disease-Blindness': 4}"
      ]
     },
     "execution_count": 7,
     "metadata": {},
     "output_type": "execute_result"
    }
   ],
   "source": [
    "train_generator.class_indices"
   ]
  },
  {
   "cell_type": "markdown",
   "id": "f866b2a6",
   "metadata": {},
   "source": [
    "#### VGG-19 Parameter building :-"
   ]
  },
  {
   "cell_type": "code",
   "execution_count": 8,
   "id": "467798c3",
   "metadata": {},
   "outputs": [
    {
     "name": "stdout",
     "output_type": "stream",
     "text": [
      "Model: \"functional_1\"\n",
      "_________________________________________________________________\n",
      "Layer (type)                 Output Shape              Param #   \n",
      "=================================================================\n",
      "input_1 (InputLayer)         [(None, 256, 256, 3)]     0         \n",
      "_________________________________________________________________\n",
      "block1_conv1 (Conv2D)        (None, 256, 256, 64)      1792      \n",
      "_________________________________________________________________\n",
      "block1_conv2 (Conv2D)        (None, 256, 256, 64)      36928     \n",
      "_________________________________________________________________\n",
      "block1_pool (MaxPooling2D)   (None, 128, 128, 64)      0         \n",
      "_________________________________________________________________\n",
      "block2_conv1 (Conv2D)        (None, 128, 128, 128)     73856     \n",
      "_________________________________________________________________\n",
      "block2_conv2 (Conv2D)        (None, 128, 128, 128)     147584    \n",
      "_________________________________________________________________\n",
      "block2_pool (MaxPooling2D)   (None, 64, 64, 128)       0         \n",
      "_________________________________________________________________\n",
      "block3_conv1 (Conv2D)        (None, 64, 64, 256)       295168    \n",
      "_________________________________________________________________\n",
      "block3_conv2 (Conv2D)        (None, 64, 64, 256)       590080    \n",
      "_________________________________________________________________\n",
      "block3_conv3 (Conv2D)        (None, 64, 64, 256)       590080    \n",
      "_________________________________________________________________\n",
      "block3_conv4 (Conv2D)        (None, 64, 64, 256)       590080    \n",
      "_________________________________________________________________\n",
      "block3_pool (MaxPooling2D)   (None, 32, 32, 256)       0         \n",
      "_________________________________________________________________\n",
      "block4_conv1 (Conv2D)        (None, 32, 32, 512)       1180160   \n",
      "_________________________________________________________________\n",
      "block4_conv2 (Conv2D)        (None, 32, 32, 512)       2359808   \n",
      "_________________________________________________________________\n",
      "block4_conv3 (Conv2D)        (None, 32, 32, 512)       2359808   \n",
      "_________________________________________________________________\n",
      "block4_conv4 (Conv2D)        (None, 32, 32, 512)       2359808   \n",
      "_________________________________________________________________\n",
      "block4_pool (MaxPooling2D)   (None, 16, 16, 512)       0         \n",
      "_________________________________________________________________\n",
      "block5_conv1 (Conv2D)        (None, 16, 16, 512)       2359808   \n",
      "_________________________________________________________________\n",
      "block5_conv2 (Conv2D)        (None, 16, 16, 512)       2359808   \n",
      "_________________________________________________________________\n",
      "block5_conv3 (Conv2D)        (None, 16, 16, 512)       2359808   \n",
      "_________________________________________________________________\n",
      "block5_conv4 (Conv2D)        (None, 16, 16, 512)       2359808   \n",
      "_________________________________________________________________\n",
      "block5_pool (MaxPooling2D)   (None, 8, 8, 512)         0         \n",
      "_________________________________________________________________\n",
      "flatten (Flatten)            (None, 32768)             0         \n",
      "_________________________________________________________________\n",
      "dense (Dense)                (None, 5)                 163845    \n",
      "=================================================================\n",
      "Total params: 20,188,229\n",
      "Trainable params: 163,845\n",
      "Non-trainable params: 20,024,384\n",
      "_________________________________________________________________\n"
     ]
    }
   ],
   "source": [
    "vgg = VGG19(input_shape=(256,256,3), weights = 'imagenet', include_top = False)\n",
    "for layer in vgg.layers:\n",
    "    layer.trainable = False\n",
    "\n",
    "x = Flatten()(vgg.output)\n",
    "x = Dense(num_classes, activation = 'softmax')(x)\n",
    "model = Model(inputs = vgg.input, outputs = x)\n",
    "\n",
    "model.summary()"
   ]
  },
  {
   "cell_type": "code",
   "execution_count": 9,
   "id": "2f2cc267",
   "metadata": {},
   "outputs": [
    {
     "name": "stdout",
     "output_type": "stream",
     "text": [
      "Epoch 1/10\n",
      "176/176 [==============================] - 3638s 21s/step - loss: 0.7035 - accuracy: 0.7686 - val_loss: 0.4168 - val_accuracy: 0.8467\n",
      "Epoch 2/10\n",
      "176/176 [==============================] - 2176s 12s/step - loss: 0.4223 - accuracy: 0.8558 - val_loss: 0.4254 - val_accuracy: 0.8626\n",
      "Epoch 3/10\n",
      "176/176 [==============================] - 2162s 12s/step - loss: 0.3452 - accuracy: 0.8887 - val_loss: 0.6516 - val_accuracy: 0.8278\n",
      "Epoch 4/10\n",
      "176/176 [==============================] - 17296s 98s/step - loss: 0.3613 - accuracy: 0.8812 - val_loss: 0.3634 - val_accuracy: 0.8815\n",
      "Epoch 5/10\n",
      "176/176 [==============================] - 1996s 11s/step - loss: 0.3055 - accuracy: 0.8942 - val_loss: 0.3865 - val_accuracy: 0.8866\n",
      "Epoch 6/10\n",
      "176/176 [==============================] - 2098s 12s/step - loss: 0.2359 - accuracy: 0.9158 - val_loss: 0.4773 - val_accuracy: 0.8445\n",
      "Epoch 7/10\n",
      "176/176 [==============================] - 2034s 12s/step - loss: 0.2641 - accuracy: 0.9156 - val_loss: 0.3856 - val_accuracy: 0.8903\n",
      "Epoch 8/10\n",
      "176/176 [==============================] - 2010s 11s/step - loss: 0.2553 - accuracy: 0.9169 - val_loss: 0.3590 - val_accuracy: 0.9012\n",
      "Epoch 9/10\n",
      "176/176 [==============================] - 3525s 20s/step - loss: 0.2556 - accuracy: 0.9116 - val_loss: 0.3568 - val_accuracy: 0.8903\n",
      "Epoch 10/10\n",
      "176/176 [==============================] - 2351s 13s/step - loss: 0.2232 - accuracy: 0.9229 - val_loss: 0.3052 - val_accuracy: 0.8939\n"
     ]
    }
   ],
   "source": [
    "opt=keras.optimizers.Adam(lr=0.001)\n",
    "model.compile(optimizer=opt,loss='categorical_crossentropy',metrics=['accuracy'])\n",
    "train=model.fit(train_generator,\n",
    "                          epochs=10,\n",
    "                          steps_per_epoch=train_generator.samples // batch_size,\n",
    "                          validation_data=validation_generator,\n",
    "                          validation_steps= validation_generator.samples // batch_size,\n",
    "                          verbose=1)"
   ]
  },
  {
   "cell_type": "markdown",
   "id": "60f36c22",
   "metadata": {},
   "source": [
    "#### Model Saving :-"
   ]
  },
  {
   "cell_type": "code",
   "execution_count": 10,
   "id": "21b723cb",
   "metadata": {},
   "outputs": [],
   "source": [
    "from tensorflow.keras.models import load_model\n",
    "model.save('5-O-D_VGG19.h5')"
   ]
  },
  {
   "cell_type": "markdown",
   "id": "21f08cd9",
   "metadata": {},
   "source": [
    "#### Accuracy Graph :-"
   ]
  },
  {
   "cell_type": "code",
   "execution_count": 11,
   "id": "b77b92d8",
   "metadata": {},
   "outputs": [
    {
     "data": {
      "text/plain": [
       "{'loss': [0.7035092115402222,\n",
       "  0.42232388257980347,\n",
       "  0.34521281719207764,\n",
       "  0.361311674118042,\n",
       "  0.3054683208465576,\n",
       "  0.2358834594488144,\n",
       "  0.2641291916370392,\n",
       "  0.255254864692688,\n",
       "  0.25563910603523254,\n",
       "  0.22317978739738464],\n",
       " 'accuracy': [0.7686023712158203,\n",
       "  0.8557982444763184,\n",
       "  0.8886520862579346,\n",
       "  0.8811933994293213,\n",
       "  0.894157350063324,\n",
       "  0.9158231019973755,\n",
       "  0.9156455397605896,\n",
       "  0.9168886542320251,\n",
       "  0.9115610122680664,\n",
       "  0.922926664352417],\n",
       " 'val_loss': [0.4167702794075012,\n",
       "  0.4254494607448578,\n",
       "  0.6515531539916992,\n",
       "  0.3634331524372101,\n",
       "  0.38649532198905945,\n",
       "  0.47725316882133484,\n",
       "  0.38556107878685,\n",
       "  0.35901618003845215,\n",
       "  0.3567904233932495,\n",
       "  0.30518200993537903],\n",
       " 'val_accuracy': [0.8466569781303406,\n",
       "  0.8626453280448914,\n",
       "  0.8277616500854492,\n",
       "  0.8815407156944275,\n",
       "  0.8866279125213623,\n",
       "  0.8444767594337463,\n",
       "  0.8902616500854492,\n",
       "  0.9011628031730652,\n",
       "  0.8902616500854492,\n",
       "  0.8938953280448914]}"
      ]
     },
     "execution_count": 11,
     "metadata": {},
     "output_type": "execute_result"
    }
   ],
   "source": [
    "train.history"
   ]
  },
  {
   "cell_type": "code",
   "execution_count": 12,
   "id": "d5f85aba",
   "metadata": {},
   "outputs": [
    {
     "data": {
      "image/png": "[encoded data removed]",
      "text/plain": [
       "<Figure size 432x288 with 1 Axes>"
      ]
     },
     "metadata": {
      "needs_background": "light"
     },
     "output_type": "display_data"
    },
    {
     "data": {
      "image/png": "[encoded data removed]",
      "text/plain": [
       "<Figure size 432x288 with 1 Axes>"
      ]
     },
     "metadata": {
      "needs_background": "light"
     },
     "output_type": "display_data"
    }
   ],
   "source": [
    "def plot_accuracy(train,title):\n",
    "    plt.title(title)\n",
    "    plt.plot(train.history['accuracy']) \n",
    "    plt.plot(train.history['val_accuracy']) \n",
    "    plt.ylabel('accuracy')\n",
    "    plt.xlabel('epoch')\n",
    "    plt.legend(['train_accuracy', 'validation_accuracy'], loc='best')\n",
    "    plt.show()\n",
    "    \n",
    "def plot_loss(train,title):\n",
    "    plt.title(title)\n",
    "    plt.plot(train.history['loss'])\n",
    "    plt.plot(train.history['val_loss'])\n",
    "    plt.ylabel('loss')\n",
    "    plt.xlabel('epoch')\n",
    "    plt.legend(['train_loss', 'validation_loss'], loc='best')\n",
    "    plt.show()\n",
    "\n",
    "    \n",
    "plot_accuracy(train,'Training and Validation Accuracy')\n",
    "plot_loss(train,'Training and Validation Loss')"
   ]
  },
  {
   "cell_type": "markdown",
   "id": "167550e2",
   "metadata": {},
   "source": [
    "#### Confusion Matrix :-"
   ]
  },
  {
   "cell_type": "markdown",
   "id": "502529ba",
   "metadata": {},
   "source": [
    "##### Training :-"
   ]
  },
  {
   "cell_type": "code",
   "execution_count": 13,
   "id": "ddf86921",
   "metadata": {},
   "outputs": [
    {
     "name": "stdout",
     "output_type": "stream",
     "text": [
      "WARNING:tensorflow:From <ipython-input-13-78cb6ab4ebd2>:2: Model.predict_generator (from tensorflow.python.keras.engine.training) is deprecated and will be removed in a future version.\n",
      "Instructions for updating:\n",
      "Please use Model.predict, which supports generators.\n"
     ]
    }
   ],
   "source": [
    "train_generator.reset()\n",
    "predictions = model.predict_generator(generator = train_generator)\n",
    "y_pred = [np.argmax(probas) for probas in predictions]\n",
    "y_test = train_generator.classes"
   ]
  },
  {
   "cell_type": "code",
   "execution_count": 14,
   "id": "73c91448",
   "metadata": {},
   "outputs": [],
   "source": [
    "labels_map = (train_generator.class_indices)\n",
    "labels = dict((v,k) for k,v in labels_map.items())\n",
    "predict = [labels[k] for k in y_pred]\n",
    "\n",
    "filenames = train_generator.filenames\n",
    "results = pd.DataFrame({\"Filename\":filenames,\"Predictions\":predict})"
   ]
  },
  {
   "cell_type": "code",
   "execution_count": 15,
   "id": "32255497",
   "metadata": {},
   "outputs": [],
   "source": [
    "from sklearn.metrics import confusion_matrix\n",
    "def plot_confusion_matrix(test_y,predict_y):\n",
    "    c = confusion_matrix(test_y, predict_y)\n",
    "    cmap = sns.light_palette(\"red\")\n",
    "    plt.figure(figsize=(10,4))\n",
    "    sns.heatmap(c, annot = True, cmap=cmap, fmt=\".1f\", xticklabels=labels, yticklabels=labels)\n",
    "    plt.xlabel('Predicted Class')\n",
    "    plt.ylabel('Original Class')\n",
    "    plt.show()"
   ]
  },
  {
   "cell_type": "code",
   "execution_count": 16,
   "id": "7e4f34af",
   "metadata": {},
   "outputs": [
    {
     "data": {
      "image/png": "[encoded data removed]",
      "text/plain": [
       "<Figure size 720x288 with 2 Axes>"
      ]
     },
     "metadata": {
      "needs_background": "light"
     },
     "output_type": "display_data"
    }
   ],
   "source": [
    "import seaborn as sns\n",
    "plot_confusion_matrix(y_test, y_pred) "
   ]
  },
  {
   "cell_type": "markdown",
   "id": "dced75d5",
   "metadata": {},
   "source": [
    "##### Validation :-"
   ]
  },
  {
   "cell_type": "code",
   "execution_count": 17,
   "id": "8bf12c5d",
   "metadata": {},
   "outputs": [],
   "source": [
    "validation_generator.reset()\n",
    "predictions = model.predict_generator(generator = validation_generator)\n",
    "y_pred = [np.argmax(probas) for probas in predictions]\n",
    "y_test = validation_generator.classes"
   ]
  },
  {
   "cell_type": "code",
   "execution_count": 18,
   "id": "c8ad52ed",
   "metadata": {},
   "outputs": [],
   "source": [
    "labels_map = (train_generator.class_indices)\n",
    "labels = dict((v,k) for k,v in labels_map.items())\n",
    "predict = [labels[k] for k in y_pred]\n",
    "\n",
    "filenames = validation_generator.filenames\n",
    "results = pd.DataFrame({\"Filename\":filenames,\"Predictions\":predict})"
   ]
  },
  {
   "cell_type": "code",
   "execution_count": 19,
   "id": "e0794e0a",
   "metadata": {},
   "outputs": [],
   "source": [
    "from sklearn.metrics import confusion_matrix\n",
    "def plot_confusion_matrix(test_y,predict_y):\n",
    "    c = confusion_matrix(test_y, predict_y)\n",
    "    cmap = sns.light_palette(\"red\")\n",
    "    plt.figure(figsize=(10,4))\n",
    "    sns.heatmap(c, annot = True, cmap=cmap, fmt=\".1f\", xticklabels=labels, yticklabels=labels)\n",
    "    plt.xlabel('Predicted Class')\n",
    "    plt.ylabel('Original Class')\n",
    "    plt.show()"
   ]
  },
  {
   "cell_type": "code",
   "execution_count": 20,
   "id": "53093ddf",
   "metadata": {},
   "outputs": [
    {
     "data": {
      "image/png": "[encoded data removed]",
      "text/plain": [
       "<Figure size 720x288 with 2 Axes>"
      ]
     },
     "metadata": {
      "needs_background": "light"
     },
     "output_type": "display_data"
    }
   ],
   "source": [
    "import seaborn as sns\n",
    "plot_confusion_matrix(y_test, y_pred) "
   ]
  },
  {
   "cell_type": "code",
   "execution_count": null,
   "id": "94817a05",
   "metadata": {},
   "outputs": [],
   "source": []
  }
 ],
 "metadata": {
  "kernelspec": {
   "display_name": "Python 3",
   "language": "python",
   "name": "python3"
  },
  "language_info": {
   "codemirror_mode": {
    "name": "ipython",
    "version": 3
   },
   "file_extension": ".py",
   "mimetype": "text/x-python",
   "name": "python",
   "nbconvert_exporter": "python",
   "pygments_lexer": "ipython3",
   "version": "3.8.8"
  }
 },
 "nbformat": 4,
 "nbformat_minor": 5
}
